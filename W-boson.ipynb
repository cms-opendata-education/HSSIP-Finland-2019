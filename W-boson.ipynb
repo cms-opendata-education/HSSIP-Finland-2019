{
 "cells": [
  {
   "cell_type": "code",
   "execution_count": 2,
   "metadata": {},
   "outputs": [],
   "source": [
    "import pandas as pd\n",
    "import numpy as np\n",
    "import matplotlib.pyplot as plt"
   ]
  },
  {
   "cell_type": "code",
   "execution_count": 3,
   "metadata": {},
   "outputs": [],
   "source": [
    "data=pd.read_csv(\"http://kati.web.cern.ch/kati/SingleMuonMet.csv\")"
   ]
  },
  {
   "cell_type": "code",
   "execution_count": 4,
   "metadata": {},
   "outputs": [
    {
     "data": {
      "text/html": [
       "<div>\n",
       "<style scoped>\n",
       "    .dataframe tbody tr th:only-of-type {\n",
       "        vertical-align: middle;\n",
       "    }\n",
       "\n",
       "    .dataframe tbody tr th {\n",
       "        vertical-align: top;\n",
       "    }\n",
       "\n",
       "    .dataframe thead th {\n",
       "        text-align: right;\n",
       "    }\n",
       "</style>\n",
       "<table border=\"1\" class=\"dataframe\">\n",
       "  <thead>\n",
       "    <tr style=\"text-align: right;\">\n",
       "      <th></th>\n",
       "      <th>Run</th>\n",
       "      <th>Event</th>\n",
       "      <th>type1</th>\n",
       "      <th>E1</th>\n",
       "      <th>px1</th>\n",
       "      <th>py1</th>\n",
       "      <th>pz1</th>\n",
       "      <th>pt1</th>\n",
       "      <th>eta1</th>\n",
       "      <th>phi1</th>\n",
       "      <th>Q1</th>\n",
       "      <th>iso1</th>\n",
       "      <th>chisq1</th>\n",
       "      <th>dxy1</th>\n",
       "      <th>type2</th>\n",
       "      <th>E2</th>\n",
       "      <th>px2</th>\n",
       "      <th>py2</th>\n",
       "      <th>pz2</th>\n",
       "      <th>pt2</th>\n",
       "      <th>eta2</th>\n",
       "      <th>phi2</th>\n",
       "      <th>Q2</th>\n",
       "      <th>iso2</th>\n",
       "      <th>chisq2</th>\n",
       "      <th>dxy2</th>\n",
       "      <th>met_et</th>\n",
       "      <th>met_phi</th>\n",
       "    </tr>\n",
       "  </thead>\n",
       "  <tbody>\n",
       "    <tr>\n",
       "      <th>0</th>\n",
       "      <td>173389</td>\n",
       "      <td>489861810</td>\n",
       "      <td>G</td>\n",
       "      <td>81.20700</td>\n",
       "      <td>-19.73920</td>\n",
       "      <td>-13.390400</td>\n",
       "      <td>77.62490</td>\n",
       "      <td>23.85240</td>\n",
       "      <td>1.895960</td>\n",
       "      <td>-2.545530</td>\n",
       "      <td>1</td>\n",
       "      <td>0.757915</td>\n",
       "      <td>0.859481</td>\n",
       "      <td>0.001574</td>\n",
       "      <td>G</td>\n",
       "      <td>0.0000</td>\n",
       "      <td>0.00000</td>\n",
       "      <td>0.00000</td>\n",
       "      <td>0.0000</td>\n",
       "      <td>0.00000</td>\n",
       "      <td>0.00000</td>\n",
       "      <td>0.00000</td>\n",
       "      <td>0.0</td>\n",
       "      <td>0.00000</td>\n",
       "      <td>0.00000</td>\n",
       "      <td>0.000000</td>\n",
       "      <td>4.87528</td>\n",
       "      <td>-1.477850</td>\n",
       "    </tr>\n",
       "    <tr>\n",
       "      <th>1</th>\n",
       "      <td>173389</td>\n",
       "      <td>489865843</td>\n",
       "      <td>G</td>\n",
       "      <td>20.89240</td>\n",
       "      <td>-14.55570</td>\n",
       "      <td>-14.942700</td>\n",
       "      <td>1.15372</td>\n",
       "      <td>20.86030</td>\n",
       "      <td>0.055279</td>\n",
       "      <td>-2.343080</td>\n",
       "      <td>1</td>\n",
       "      <td>7.996410</td>\n",
       "      <td>0.861278</td>\n",
       "      <td>0.017863</td>\n",
       "      <td>G</td>\n",
       "      <td>0.0000</td>\n",
       "      <td>0.00000</td>\n",
       "      <td>0.00000</td>\n",
       "      <td>0.0000</td>\n",
       "      <td>0.00000</td>\n",
       "      <td>0.00000</td>\n",
       "      <td>0.00000</td>\n",
       "      <td>0.0</td>\n",
       "      <td>0.00000</td>\n",
       "      <td>0.00000</td>\n",
       "      <td>0.000000</td>\n",
       "      <td>24.22140</td>\n",
       "      <td>-1.851490</td>\n",
       "    </tr>\n",
       "    <tr>\n",
       "      <th>2</th>\n",
       "      <td>173389</td>\n",
       "      <td>489914455</td>\n",
       "      <td>G</td>\n",
       "      <td>12.95950</td>\n",
       "      <td>3.13972</td>\n",
       "      <td>-3.732570</td>\n",
       "      <td>-12.00610</td>\n",
       "      <td>4.87749</td>\n",
       "      <td>-1.632850</td>\n",
       "      <td>-0.871451</td>\n",
       "      <td>-1</td>\n",
       "      <td>2.153700</td>\n",
       "      <td>0.856005</td>\n",
       "      <td>0.093071</td>\n",
       "      <td>G</td>\n",
       "      <td>0.0000</td>\n",
       "      <td>0.00000</td>\n",
       "      <td>0.00000</td>\n",
       "      <td>0.0000</td>\n",
       "      <td>0.00000</td>\n",
       "      <td>0.00000</td>\n",
       "      <td>0.00000</td>\n",
       "      <td>0.0</td>\n",
       "      <td>0.00000</td>\n",
       "      <td>0.00000</td>\n",
       "      <td>0.000000</td>\n",
       "      <td>7.47978</td>\n",
       "      <td>-1.580460</td>\n",
       "    </tr>\n",
       "    <tr>\n",
       "      <th>3</th>\n",
       "      <td>173389</td>\n",
       "      <td>489963747</td>\n",
       "      <td>G</td>\n",
       "      <td>29.63810</td>\n",
       "      <td>6.25372</td>\n",
       "      <td>28.679100</td>\n",
       "      <td>-4.09978</td>\n",
       "      <td>29.35300</td>\n",
       "      <td>-0.139221</td>\n",
       "      <td>1.356100</td>\n",
       "      <td>1</td>\n",
       "      <td>0.000000</td>\n",
       "      <td>0.845578</td>\n",
       "      <td>-0.060012</td>\n",
       "      <td>G</td>\n",
       "      <td>0.0000</td>\n",
       "      <td>0.00000</td>\n",
       "      <td>0.00000</td>\n",
       "      <td>0.0000</td>\n",
       "      <td>0.00000</td>\n",
       "      <td>0.00000</td>\n",
       "      <td>0.00000</td>\n",
       "      <td>0.0</td>\n",
       "      <td>0.00000</td>\n",
       "      <td>0.00000</td>\n",
       "      <td>0.000000</td>\n",
       "      <td>30.66700</td>\n",
       "      <td>-2.130810</td>\n",
       "    </tr>\n",
       "    <tr>\n",
       "      <th>4</th>\n",
       "      <td>173389</td>\n",
       "      <td>489925803</td>\n",
       "      <td>G</td>\n",
       "      <td>7.01111</td>\n",
       "      <td>-1.61130</td>\n",
       "      <td>0.006709</td>\n",
       "      <td>-6.82262</td>\n",
       "      <td>1.61131</td>\n",
       "      <td>-2.150000</td>\n",
       "      <td>3.137430</td>\n",
       "      <td>-1</td>\n",
       "      <td>0.643718</td>\n",
       "      <td>2.970230</td>\n",
       "      <td>-0.041494</td>\n",
       "      <td>G</td>\n",
       "      <td>11.2786</td>\n",
       "      <td>1.43852</td>\n",
       "      <td>2.48368</td>\n",
       "      <td>-10.9068</td>\n",
       "      <td>2.87019</td>\n",
       "      <td>-2.04503</td>\n",
       "      <td>1.04582</td>\n",
       "      <td>1.0</td>\n",
       "      <td>1.36497</td>\n",
       "      <td>8.03214</td>\n",
       "      <td>-0.045094</td>\n",
       "      <td>13.75300</td>\n",
       "      <td>-0.996907</td>\n",
       "    </tr>\n",
       "  </tbody>\n",
       "</table>\n",
       "</div>"
      ],
      "text/plain": [
       "      Run      Event type1        E1       px1        py1       pz1       pt1  \\\n",
       "0  173389  489861810     G  81.20700 -19.73920 -13.390400  77.62490  23.85240   \n",
       "1  173389  489865843     G  20.89240 -14.55570 -14.942700   1.15372  20.86030   \n",
       "2  173389  489914455     G  12.95950   3.13972  -3.732570 -12.00610   4.87749   \n",
       "3  173389  489963747     G  29.63810   6.25372  28.679100  -4.09978  29.35300   \n",
       "4  173389  489925803     G   7.01111  -1.61130   0.006709  -6.82262   1.61131   \n",
       "\n",
       "       eta1      phi1  Q1      iso1    chisq1      dxy1 type2       E2  \\\n",
       "0  1.895960 -2.545530   1  0.757915  0.859481  0.001574     G   0.0000   \n",
       "1  0.055279 -2.343080   1  7.996410  0.861278  0.017863     G   0.0000   \n",
       "2 -1.632850 -0.871451  -1  2.153700  0.856005  0.093071     G   0.0000   \n",
       "3 -0.139221  1.356100   1  0.000000  0.845578 -0.060012     G   0.0000   \n",
       "4 -2.150000  3.137430  -1  0.643718  2.970230 -0.041494     G  11.2786   \n",
       "\n",
       "       px2      py2      pz2      pt2     eta2     phi2   Q2     iso2  \\\n",
       "0  0.00000  0.00000   0.0000  0.00000  0.00000  0.00000  0.0  0.00000   \n",
       "1  0.00000  0.00000   0.0000  0.00000  0.00000  0.00000  0.0  0.00000   \n",
       "2  0.00000  0.00000   0.0000  0.00000  0.00000  0.00000  0.0  0.00000   \n",
       "3  0.00000  0.00000   0.0000  0.00000  0.00000  0.00000  0.0  0.00000   \n",
       "4  1.43852  2.48368 -10.9068  2.87019 -2.04503  1.04582  1.0  1.36497   \n",
       "\n",
       "    chisq2      dxy2    met_et   met_phi  \n",
       "0  0.00000  0.000000   4.87528 -1.477850  \n",
       "1  0.00000  0.000000  24.22140 -1.851490  \n",
       "2  0.00000  0.000000   7.47978 -1.580460  \n",
       "3  0.00000  0.000000  30.66700 -2.130810  \n",
       "4  8.03214 -0.045094  13.75300 -0.996907  "
      ]
     },
     "execution_count": 4,
     "metadata": {},
     "output_type": "execute_result"
    }
   ],
   "source": [
    "pd.set_option(\"display.max_columns\",None)\n",
    "data.head()"
   ]
  },
  {
   "cell_type": "code",
   "execution_count": 5,
   "metadata": {},
   "outputs": [],
   "source": [
    "MT = np.sqrt(2*data.pt1*data.met_et*(1-np.cos(data.phi1-data.met_phi)))"
   ]
  },
  {
   "cell_type": "code",
   "execution_count": 6,
   "metadata": {},
   "outputs": [],
   "source": [
    "new1=data[(data[\"met_et\"]>20)]\n",
    "new2=data[(data[\"met_et\"]>25)]\n",
    "new3=data[(data[\"met_et\"]>30)]\n",
    "new4=data[(data[\"met_et\"]>40)]\n",
    "new5=data[(data[\"met_et\"]>45)]"
   ]
  },
  {
   "cell_type": "code",
   "execution_count": 7,
   "metadata": {},
   "outputs": [],
   "source": [
    "MT1 = np.sqrt(2*new1.pt1*new1.met_et*(1-np.cos(new1.phi1-new1.met_phi)))\n",
    "MT2 = np.sqrt(2*new2.pt1*new2.met_et*(1-np.cos(new2.phi1-new2.met_phi)))\n",
    "MT3 = np.sqrt(2*new3.pt1*new3.met_et*(1-np.cos(new3.phi1-new3.met_phi)))\n",
    "MT4 = np.sqrt(2*new4.pt1*new4.met_et*(1-np.cos(new4.phi1-new4.met_phi)))\n",
    "MT5 = np.sqrt(2*new5.pt1*new5.met_et*(1-np.cos(new5.phi1-new5.met_phi)))"
   ]
  },
  {
   "cell_type": "code",
   "execution_count": 8,
   "metadata": {},
   "outputs": [
    {
     "data": {
      "image/png": "[encoded data removed]",
      "text/plain": [
       "<Figure size 432x288 with 1 Axes>"
      ]
     },
     "metadata": {
      "needs_background": "light"
     },
     "output_type": "display_data"
    }
   ],
   "source": [
    "plt.hist(MT, bins=500, range=(0,100), alpha=0.5, label=\"met\")\n",
    "plt.hist(MT1, bins=500, range=(0,125), alpha=0.5, label=\"met>20\")\n",
    "plt.hist(MT2, bins=500, range=(0,125), alpha=0.5, label=\"met>25\")\n",
    "plt.hist(MT3, bins=500, range=(0,125), alpha=0.5, label=\"met>30\")\n",
    "plt.hist(MT4, bins=500, range=(0,125), alpha=0.5, label=\"met>40\")\n",
    "plt.hist(MT5, bins=500, range=(0,125), alpha=0.5, label=\"met>45\")\n",
    "plt.title(\"W-bosonin löytäminen/leikattu met\")\n",
    "plt.xlabel(\"Transverse mass (GeV)\")\n",
    "plt.ylabel(\"Tapahtumien lukumäärä\")\n",
    "plt.legend()\n",
    "plt.show()"
   ]
  },
  {
   "cell_type": "code",
   "execution_count": 9,
   "metadata": {},
   "outputs": [],
   "source": [
    "new6=new3[(new3[\"chisq1\"]>5)]\n",
    "new7=new3[(new3[\"chisq1\"]<5)]"
   ]
  },
  {
   "cell_type": "code",
   "execution_count": 10,
   "metadata": {},
   "outputs": [],
   "source": [
    "MT6 = np.sqrt(2*new6.pt1*new6.met_et*(1-np.cos(new6.phi1-new6.met_phi)))\n",
    "MT7 = np.sqrt(2*new7.pt1*new7.met_et*(1-np.cos(new7.phi1-new7.met_phi)))"
   ]
  },
  {
   "cell_type": "code",
   "execution_count": 11,
   "metadata": {},
   "outputs": [
    {
     "data": {
      "image/png": "[encoded data removed]",
      "text/plain": [
       "<Figure size 432x288 with 1 Axes>"
      ]
     },
     "metadata": {
      "needs_background": "light"
     },
     "output_type": "display_data"
    }
   ],
   "source": [
    "plt.hist(MT6, bins=500, range=(0,100), alpha=0.5, label=\"chisq1>5\")\n",
    "plt.hist(MT7, bins=500, range=(0,100), alpha=0.5, label=\"chisq1<5\")\n",
    "plt.title(\"W-bosonin löytäminen/ leikattu chisq1\")\n",
    "plt.xlabel(\"Transverse mass (GeV)\")\n",
    "plt.ylabel(\"Tapahtumien lukumäärä\")\n",
    "plt.legend()\n",
    "plt.show()"
   ]
  },
  {
   "cell_type": "code",
   "execution_count": 12,
   "metadata": {},
   "outputs": [],
   "source": [
    "newa=new7[(new7[\"eta1\"]>1)]\n",
    "newb=new7[(new7[\"eta1\"]<1)]"
   ]
  },
  {
   "cell_type": "code",
   "execution_count": 13,
   "metadata": {},
   "outputs": [],
   "source": [
    "MTnewa = np.sqrt(2*newa.pt1*newa.met_et*(1-np.cos(newa.phi1-newa.met_phi)))\n",
    "MTnewb = np.sqrt(2*newb.pt1*newb.met_et*(1-np.cos(newb.phi1-newb.met_phi)))"
   ]
  },
  {
   "cell_type": "code",
   "execution_count": 14,
   "metadata": {},
   "outputs": [
    {
     "data": {
      "image/png": "[encoded data removed]",
      "text/plain": [
       "<Figure size 432x288 with 1 Axes>"
      ]
     },
     "metadata": {
      "needs_background": "light"
     },
     "output_type": "display_data"
    }
   ],
   "source": [
    "plt.hist(MTnewa, bins=500, range=(0,125), alpha=0.5, label=\"eta>1\")\n",
    "plt.hist(MTnewb, bins=500, range=(0,125), alpha=0.5, label=\"eta<1\")\n",
    "plt.title(\"W-bosonin löytäminen/ leikattu eta\")\n",
    "plt.xlabel(\"Transverse mass (GeV)\")\n",
    "plt.ylabel(\"Tapahtumien lukumäärä\")\n",
    "plt.legend()\n",
    "plt.show()"
   ]
  },
  {
   "cell_type": "markdown",
   "metadata": {},
   "source": [
    "Lopullinen"
   ]
  },
  {
   "cell_type": "code",
   "execution_count": 15,
   "metadata": {},
   "outputs": [],
   "source": [
    "newc=newa[(newa[\"pt1\"]>35)]"
   ]
  },
  {
   "cell_type": "code",
   "execution_count": 16,
   "metadata": {},
   "outputs": [],
   "source": [
    "MTnewc = np.sqrt(2*newc.pt1*newc.met_et*(1-np.cos(newc.phi1-newc.met_phi)))"
   ]
  },
  {
   "cell_type": "code",
   "execution_count": 17,
   "metadata": {},
   "outputs": [
    {
     "data": {
      "image/png": "[encoded data removed]",
      "text/plain": [
       "<Figure size 720x360 with 1 Axes>"
      ]
     },
     "metadata": {
      "needs_background": "light"
     },
     "output_type": "display_data"
    }
   ],
   "source": [
    "plt.figure(figsize=(10,5))\n",
    "plt.hist(MTnewc, bins=500, range=(20,120), alpha=0.5, label=\"eta<1, met>30, chisq1<5 ja pt1>35\")\n",
    "plt.title(\"\\n W boson´s decay into a muon \\n\", fontsize=15)\n",
    "plt.xlabel(\"Transverse mass (GeV)\", fontsize=10)\n",
    "plt.ylabel(\"Number of events\", fontsize=10)\n",
    "plt.legend()\n",
    "plt.show()"
   ]
  }
 ],
 "metadata": {
  "kernelspec": {
   "display_name": "Python 3",
   "language": "python",
   "name": "python3"
  },
  "language_info": {
   "codemirror_mode": {
    "name": "ipython",
    "version": 3
   },
   "file_extension": ".py",
   "mimetype": "text/x-python",
   "name": "python",
   "nbconvert_exporter": "python",
   "pygments_lexer": "ipython3",
   "version": "3.7.3"
  }
 },
 "nbformat": 4,
 "nbformat_minor": 2
}
