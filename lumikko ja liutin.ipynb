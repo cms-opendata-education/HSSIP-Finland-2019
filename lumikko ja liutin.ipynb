{
 "cells": [
  {
   "cell_type": "code",
   "execution_count": 1,
   "metadata": {},
   "outputs": [],
   "source": [
    "import matplotlib.pyplot as plt\n",
    "import ipywidgets as wg\n",
    "from IPython.display import display\n",
    "\n",
    "import numpy as np\n",
    "\n",
    "def suu (a):\n",
    "    x2=np.linspace(-2,2,30)\n",
    "    y2=a*x2**2\n",
    "    plt.plot(x2, y2, \"r--\")\n",
    "    plt.ylim([2,-2])\n",
    "    plt.xlim([-2,2])\n",
    "    \n",
    "    "
   ]
  },
  {
   "cell_type": "code",
   "execution_count": 2,
   "metadata": {},
   "outputs": [
    {
     "data": {
      "application/vnd.jupyter.widget-view+json": {
       "model_id": "0a3ab5c75fe34a93a249c4164d6f3b14",
       "version_major": 2,
       "version_minor": 0
      },
      "text/plain": [
       "interactive(children=(FloatSlider(value=1.0, description='a', max=5.0, min=-5.0), Output()), _dom_classes=('wi…"
      ]
     },
     "metadata": {},
     "output_type": "display_data"
    },
    {
     "data": {
      "text/plain": [
       "<function __main__.suu(a)>"
      ]
     },
     "execution_count": 2,
     "metadata": {},
     "output_type": "execute_result"
    }
   ],
   "source": [
    "a_slide=wg.FloatSlider(value=1.0, min=-5, max=5, step=0.1)\n",
    "wg.interact(suu, a=a_slide)"
   ]
  },
  {
   "cell_type": "code",
   "execution_count": 35,
   "metadata": {},
   "outputs": [
    {
     "name": "stdout",
     "output_type": "stream",
     "text": [
      "Olen surullinen\n"
     ]
    },
    {
     "data": {
      "application/vnd.jupyter.widget-view+json": {
       "model_id": "fa06781458a649faa1de394a6b86f005",
       "version_major": 2,
       "version_minor": 0
      },
      "text/plain": [
       "interactive(children=(FloatSlider(value=1.0, description='a', max=5.0, min=-5.0), FloatSlider(value=1.0, descr…"
      ]
     },
     "metadata": {},
     "output_type": "display_data"
    },
    {
     "data": {
      "text/plain": [
       "<function __main__.lumiukko(a, b, c)>"
      ]
     },
     "execution_count": 35,
     "metadata": {},
     "output_type": "execute_result"
    }
   ],
   "source": [
    "import matplotlib.pyplot as plt\n",
    "import numpy as np\n",
    "import ipywidgets as wg\n",
    "from IPython.display import display\n",
    "\n",
    "#plt.figure(figsize=(10,15))\n",
    "\n",
    "def lumiukko (a,b,c):\n",
    "    plt.figure(figsize=(10,15))\n",
    "    circle = plt.Circle((0, 0), radius=0.75, fc='lightgrey')\n",
    "    plt.gca().add_patch(circle)\n",
    "    circle = plt.Circle((0, 1), radius=0.65, fc='lightgrey')\n",
    "    plt.gca().add_patch(circle)\n",
    "    circle = plt.Circle((0, 2), radius=0.5, fc='lightgrey')\n",
    "    plt.gca().add_patch(circle)\n",
    "\n",
    "    circle = plt.Circle((-0.25, 2), radius=0.09, fc='black')\n",
    "    plt.gca().add_patch(circle)\n",
    "    circle = plt.Circle((0.25, 2), radius=0.09, fc='black')\n",
    "    plt.gca().add_patch(circle)\n",
    "\n",
    "    line = plt.Line2D((-0.4, 0.4), (2.4, 2.4), lw=9, color=\"brown\")\n",
    "    plt.gca().add_line(line)\n",
    "    line = plt.Line2D((-0.2, 0.2), (2.6, 2.6), lw=85, color=\"brown\")\n",
    "    plt.gca().add_line(line)\n",
    "    \n",
    "    line = plt.Line2D((-0.8, -0.5 ), (1.5*b, 1), lw=4, color=\"blue\")\n",
    "    plt.gca().add_line(line)\n",
    "    line = plt.Line2D((0.8, 0.5 ), (1.5*c, 1), lw=4, color=\"blue\")\n",
    "    plt.gca().add_line(line)\n",
    "\n",
    "    #line = plt.Line2D((-0.2, 0.2 ), (1.7, 1.7), lw=4, color=\"orange\", label=\"suu\")\n",
    "    #plt.gca().add_line(line)\n",
    "\n",
    "#def suu (a):\n",
    "    x2=np.linspace(-0.15,0.15,30)\n",
    "    y2=a*x2**2+1.75\n",
    "    plt.plot(x2, y2, \"r--\")\n",
    "    #plt.ylim([-0.2,0.2])\n",
    "    #plt.xlim([0.2,-0.2])\n",
    "    \n",
    "if a_slide.value <0:\n",
    "    print('Olen surullinen')\n",
    "else :\n",
    "    print('Olen iloinen')\n",
    "\n",
    "    \n",
    "a_slide=wg.FloatSlider(value=1.0, min=-5, max=5, step=0.1)\n",
    "b_slide=wg.FloatSlider(value=1.0, min=0.3, max=1, step=0.1)\n",
    "c_slide=wg.FloatSlider(value=1.0, min=0.3, max=1, step=0.1)\n",
    "\n",
    "#plt.axis('scaled'\n",
    "\n",
    "wg.interact(lumiukko, a=a_slide, b=b_slide, c=c_slide)"
   ]
  },
  {
   "cell_type": "code",
   "execution_count": null,
   "metadata": {},
   "outputs": [],
   "source": []
  }
 ],
 "metadata": {
  "kernelspec": {
   "display_name": "Python 3",
   "language": "python",
   "name": "python3"
  },
  "language_info": {
   "codemirror_mode": {
    "name": "ipython",
    "version": 3
   },
   "file_extension": ".py",
   "mimetype": "text/x-python",
   "name": "python",
   "nbconvert_exporter": "python",
   "pygments_lexer": "ipython3",
   "version": "3.7.3"
  }
 },
 "nbformat": 4,
 "nbformat_minor": 2
}
